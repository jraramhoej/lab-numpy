{
 "cells": [
  {
   "cell_type": "markdown",
   "metadata": {},
   "source": [
    "# Intrduction to NumPy\n",
    "\n",
    "\n",
    "#### 1. Import NumPy under the name np."
   ]
  },
  {
   "cell_type": "code",
   "execution_count": 1,
   "metadata": {},
   "outputs": [],
   "source": [
    "# your code here\n",
    "import numpy as np"
   ]
  },
  {
   "cell_type": "markdown",
   "metadata": {},
   "source": [
    "#### 2. Print your NumPy version."
   ]
  },
  {
   "cell_type": "code",
   "execution_count": 2,
   "metadata": {},
   "outputs": [
    {
     "name": "stdout",
     "output_type": "stream",
     "text": [
      "1.18.5\n"
     ]
    }
   ],
   "source": [
    "# your code here\n",
    "print(np.version.version)"
   ]
  },
  {
   "cell_type": "markdown",
   "metadata": {},
   "source": [
    "#### 3. Generate a 2x3x5 3-dimensional array with random values. Assign the array to variable *a*.\n",
    "**Challenge**: there are at least three easy ways that use numpy to generate random arrays. How many ways can you find?"
   ]
  },
  {
   "cell_type": "code",
   "execution_count": 8,
   "metadata": {},
   "outputs": [
    {
     "data": {
      "text/plain": [
       "array([[[0.25273293, 0.61552322, 0.0710703 , 0.56083813, 0.48219053],\n",
       "        [0.80013714, 0.87087519, 0.56725241, 0.98702592, 0.84714385],\n",
       "        [0.76096116, 0.85732542, 0.64628543, 0.30544768, 0.29728131]],\n",
       "\n",
       "       [[0.84609149, 0.42837361, 0.88546522, 0.37559273, 0.69192274],\n",
       "        [0.20711017, 0.31426938, 0.31240055, 0.65793315, 0.35401347],\n",
       "        [0.98208067, 0.82591876, 0.72772742, 0.87084133, 0.03338424]]])"
      ]
     },
     "execution_count": 8,
     "metadata": {},
     "output_type": "execute_result"
    }
   ],
   "source": [
    "# Method 1\n",
    "# random floats in the half-open interval [0.0, 1.0). Results are from the “continuous uniform” distribution over the stated interval. \n",
    "a = np.random.random(size=(2, 3, 5))\n"
   ]
  },
  {
   "cell_type": "code",
   "execution_count": 5,
   "metadata": {},
   "outputs": [
    {
     "data": {
      "text/plain": [
       "array([[[0.21888394, 0.94460449, 0.40613164, 0.40967394, 0.20034005],\n",
       "        [0.99344188, 0.45311099, 0.62568063, 0.90936535, 0.29054306],\n",
       "        [0.65015628, 0.74780947, 0.05659543, 0.13491811, 0.3677703 ]],\n",
       "\n",
       "       [[0.08798167, 0.26943109, 0.99914223, 0.24246934, 0.39643453],\n",
       "        [0.85737221, 0.78538814, 0.22873711, 0.91334867, 0.96208219],\n",
       "        [0.95530305, 0.06249823, 0.25341496, 0.14592595, 0.90096865]]])"
      ]
     },
     "execution_count": 5,
     "metadata": {},
     "output_type": "execute_result"
    }
   ],
   "source": [
    "# Method 2\n",
    "# random floats in the half-open interval [0.0, 1.0). samples from a uniform distribution.\n",
    "a = np.random.rand(2, 3, 5)\n"
   ]
  },
  {
   "cell_type": "code",
   "execution_count": 7,
   "metadata": {},
   "outputs": [
    {
     "data": {
      "text/plain": [
       "array([[[150, 664,  99, 567, 209],\n",
       "        [251,  97, 382, 216,  94],\n",
       "        [614, 314, 478, 551, 304]],\n",
       "\n",
       "       [[354,  55, 542, 371, 473],\n",
       "        [508, 562, 198, 122, 475],\n",
       "        [360, 217, 355, 115, 268]]])"
      ]
     },
     "execution_count": 7,
     "metadata": {},
     "output_type": "execute_result"
    }
   ],
   "source": [
    "# Method 3\n",
    "# random integers with low and high specified\n",
    "a = np.random.randint(42, high=666, size=(2, 3, 5))\n"
   ]
  },
  {
   "cell_type": "markdown",
   "metadata": {},
   "source": [
    "#### 4. Print *a*.\n"
   ]
  },
  {
   "cell_type": "code",
   "execution_count": 10,
   "metadata": {},
   "outputs": [
    {
     "name": "stdout",
     "output_type": "stream",
     "text": [
      "[[[0.25273293 0.61552322 0.0710703  0.56083813 0.48219053]\n",
      "  [0.80013714 0.87087519 0.56725241 0.98702592 0.84714385]\n",
      "  [0.76096116 0.85732542 0.64628543 0.30544768 0.29728131]]\n",
      "\n",
      " [[0.84609149 0.42837361 0.88546522 0.37559273 0.69192274]\n",
      "  [0.20711017 0.31426938 0.31240055 0.65793315 0.35401347]\n",
      "  [0.98208067 0.82591876 0.72772742 0.87084133 0.03338424]]]\n"
     ]
    }
   ],
   "source": [
    "# your code here\n",
    "print(a)"
   ]
  },
  {
   "cell_type": "markdown",
   "metadata": {},
   "source": [
    "#### 5. Create a 5x2x3 3-dimensional array with all values equaling 1. Assign the array to variable *b*."
   ]
  },
  {
   "cell_type": "code",
   "execution_count": 12,
   "metadata": {},
   "outputs": [
    {
     "data": {
      "text/plain": [
       "array([[[1., 1., 1.],\n",
       "        [1., 1., 1.]],\n",
       "\n",
       "       [[1., 1., 1.],\n",
       "        [1., 1., 1.]],\n",
       "\n",
       "       [[1., 1., 1.],\n",
       "        [1., 1., 1.]],\n",
       "\n",
       "       [[1., 1., 1.],\n",
       "        [1., 1., 1.]],\n",
       "\n",
       "       [[1., 1., 1.],\n",
       "        [1., 1., 1.]]])"
      ]
     },
     "execution_count": 12,
     "metadata": {},
     "output_type": "execute_result"
    }
   ],
   "source": [
    "# your code here\n",
    "b = np.ones((5, 2, 3))\n"
   ]
  },
  {
   "cell_type": "markdown",
   "metadata": {},
   "source": [
    "#### 6. Print *b*.\n"
   ]
  },
  {
   "cell_type": "code",
   "execution_count": 13,
   "metadata": {},
   "outputs": [
    {
     "name": "stdout",
     "output_type": "stream",
     "text": [
      "[[[1. 1. 1.]\n",
      "  [1. 1. 1.]]\n",
      "\n",
      " [[1. 1. 1.]\n",
      "  [1. 1. 1.]]\n",
      "\n",
      " [[1. 1. 1.]\n",
      "  [1. 1. 1.]]\n",
      "\n",
      " [[1. 1. 1.]\n",
      "  [1. 1. 1.]]\n",
      "\n",
      " [[1. 1. 1.]\n",
      "  [1. 1. 1.]]]\n"
     ]
    }
   ],
   "source": [
    "# your code here\n",
    "print(b)"
   ]
  },
  {
   "cell_type": "markdown",
   "metadata": {},
   "source": [
    "#### 7. Do *a* and *b* have the same size? How do you prove that in Python code?"
   ]
  },
  {
   "cell_type": "code",
   "execution_count": 17,
   "metadata": {},
   "outputs": [
    {
     "data": {
      "text/plain": [
       "True"
      ]
     },
     "execution_count": 17,
     "metadata": {},
     "output_type": "execute_result"
    }
   ],
   "source": [
    "# your code here\n",
    "# we can use the size method and try equivalence\n",
    "np.size(a) == np.size(b)"
   ]
  },
  {
   "cell_type": "markdown",
   "metadata": {},
   "source": [
    "#### 8. Are you able to add *a* and *b*? Why or why not?\n"
   ]
  },
  {
   "cell_type": "code",
   "execution_count": 19,
   "metadata": {},
   "outputs": [
    {
     "name": "stdout",
     "output_type": "stream",
     "text": [
      "You cannot add a to b because they have different shapes. You'd have to convert them into the same shape.\n"
     ]
    }
   ],
   "source": [
    "# your answer here\n",
    "try:\n",
    "    a + b\n",
    "except ValueError:\n",
    "    print(\"You cannot add a to b because they have different shapes. You'd have to convert them into the same shape.\")"
   ]
  },
  {
   "cell_type": "markdown",
   "metadata": {},
   "source": [
    "#### 9. Transpose *b* so that it has the same structure of *a* (i.e. become a 2x3x5 array). Assign the transposed array to variable *c*."
   ]
  },
  {
   "cell_type": "code",
   "execution_count": 22,
   "metadata": {},
   "outputs": [
    {
     "data": {
      "text/plain": [
       "array([[[1., 1., 1., 1., 1.],\n",
       "        [1., 1., 1., 1., 1.],\n",
       "        [1., 1., 1., 1., 1.]],\n",
       "\n",
       "       [[1., 1., 1., 1., 1.],\n",
       "        [1., 1., 1., 1., 1.],\n",
       "        [1., 1., 1., 1., 1.]]])"
      ]
     },
     "execution_count": 22,
     "metadata": {},
     "output_type": "execute_result"
    }
   ],
   "source": [
    "# your code here\n",
    "c = b.reshape(2, 3, 5)\n",
    "c"
   ]
  },
  {
   "cell_type": "markdown",
   "metadata": {},
   "source": [
    "#### 10. Try to add *a* and *c*. Now it should work. Assign the sum to variable *d*. But why does it work now?"
   ]
  },
  {
   "cell_type": "code",
   "execution_count": 23,
   "metadata": {},
   "outputs": [
    {
     "data": {
      "text/plain": [
       "array([[[1.25273293, 1.61552322, 1.0710703 , 1.56083813, 1.48219053],\n",
       "        [1.80013714, 1.87087519, 1.56725241, 1.98702592, 1.84714385],\n",
       "        [1.76096116, 1.85732542, 1.64628543, 1.30544768, 1.29728131]],\n",
       "\n",
       "       [[1.84609149, 1.42837361, 1.88546522, 1.37559273, 1.69192274],\n",
       "        [1.20711017, 1.31426938, 1.31240055, 1.65793315, 1.35401347],\n",
       "        [1.98208067, 1.82591876, 1.72772742, 1.87084133, 1.03338424]]])"
      ]
     },
     "execution_count": 23,
     "metadata": {},
     "output_type": "execute_result"
    }
   ],
   "source": [
    "# your code/answer here\n",
    "d = a + c\n"
   ]
  },
  {
   "cell_type": "markdown",
   "metadata": {},
   "source": [
    "#### 11. Print *a* and *d*. Notice the difference and relation of the two array in terms of the values? Explain."
   ]
  },
  {
   "cell_type": "code",
   "execution_count": 25,
   "metadata": {},
   "outputs": [
    {
     "name": "stdout",
     "output_type": "stream",
     "text": [
      "[[[0.25273293 0.61552322 0.0710703  0.56083813 0.48219053]\n",
      "  [0.80013714 0.87087519 0.56725241 0.98702592 0.84714385]\n",
      "  [0.76096116 0.85732542 0.64628543 0.30544768 0.29728131]]\n",
      "\n",
      " [[0.84609149 0.42837361 0.88546522 0.37559273 0.69192274]\n",
      "  [0.20711017 0.31426938 0.31240055 0.65793315 0.35401347]\n",
      "  [0.98208067 0.82591876 0.72772742 0.87084133 0.03338424]]]\n",
      "[[[1.25273293 1.61552322 1.0710703  1.56083813 1.48219053]\n",
      "  [1.80013714 1.87087519 1.56725241 1.98702592 1.84714385]\n",
      "  [1.76096116 1.85732542 1.64628543 1.30544768 1.29728131]]\n",
      "\n",
      " [[1.84609149 1.42837361 1.88546522 1.37559273 1.69192274]\n",
      "  [1.20711017 1.31426938 1.31240055 1.65793315 1.35401347]\n",
      "  [1.98208067 1.82591876 1.72772742 1.87084133 1.03338424]]]\n",
      "The values in d are each 1 greater than the values in a, because we added an array where all values are 1 to a\n"
     ]
    }
   ],
   "source": [
    "# your code/answer here\n",
    "\n",
    "# print a\n",
    "print(a)\n",
    "\n",
    "# print d\n",
    "print(d)\n",
    "\n",
    "# explanation\n",
    "print(\"The values in d are each 1 greater than the values in a, because we added an array where all values are 1 to a\")"
   ]
  },
  {
   "cell_type": "markdown",
   "metadata": {},
   "source": [
    "#### 12. Multiply *a* and *c*. Assign the result to *e*."
   ]
  },
  {
   "cell_type": "code",
   "execution_count": 26,
   "metadata": {},
   "outputs": [
    {
     "data": {
      "text/plain": [
       "array([[[0.25273293, 0.61552322, 0.0710703 , 0.56083813, 0.48219053],\n",
       "        [0.80013714, 0.87087519, 0.56725241, 0.98702592, 0.84714385],\n",
       "        [0.76096116, 0.85732542, 0.64628543, 0.30544768, 0.29728131]],\n",
       "\n",
       "       [[0.84609149, 0.42837361, 0.88546522, 0.37559273, 0.69192274],\n",
       "        [0.20711017, 0.31426938, 0.31240055, 0.65793315, 0.35401347],\n",
       "        [0.98208067, 0.82591876, 0.72772742, 0.87084133, 0.03338424]]])"
      ]
     },
     "execution_count": 26,
     "metadata": {},
     "output_type": "execute_result"
    }
   ],
   "source": [
    "# your code here\n",
    "e = a * c\n",
    "e"
   ]
  },
  {
   "cell_type": "markdown",
   "metadata": {},
   "source": [
    "#### 13. Does *e* equal to *a*? Why or why not?\n"
   ]
  },
  {
   "cell_type": "code",
   "execution_count": 32,
   "metadata": {},
   "outputs": [
    {
     "name": "stdout",
     "output_type": "stream",
     "text": [
      "Yes, e and a are equal because we multiplied each value in a with 1.\n"
     ]
    }
   ],
   "source": [
    "# your code/answer here\n",
    "if np.array_equal(e, a):\n",
    "    print(\"Yes, e and a are equal because we multiplied each value in a with 1.\")"
   ]
  },
  {
   "cell_type": "markdown",
   "metadata": {},
   "source": [
    "#### 14. Identify the max, min, and mean values in *d*. Assign those values to variables *d_max*, *d_min* and *d_mean*."
   ]
  },
  {
   "cell_type": "code",
   "execution_count": 37,
   "metadata": {},
   "outputs": [],
   "source": [
    "# your code here\n",
    "# max\n",
    "d_max =  np.max(d)\n",
    "\n",
    "# min\n",
    "d_min =  np.min(d)\n",
    "\n",
    "# mean\n",
    "d_mean = np.mean(d)\n"
   ]
  },
  {
   "cell_type": "markdown",
   "metadata": {},
   "source": [
    "#### 15. Now we want to label the values in *d*. First create an empty array *f* with the same shape (i.e. 2x3x5) as *d* using `np.empty`.\n"
   ]
  },
  {
   "cell_type": "code",
   "execution_count": 39,
   "metadata": {},
   "outputs": [
    {
     "data": {
      "text/plain": [
       "array([[[0.25273293, 0.61552322, 0.0710703 , 0.56083813, 0.48219053],\n",
       "        [0.80013714, 0.87087519, 0.56725241, 0.98702592, 0.84714385],\n",
       "        [0.76096116, 0.85732542, 0.64628543, 0.30544768, 0.29728131]],\n",
       "\n",
       "       [[0.84609149, 0.42837361, 0.88546522, 0.37559273, 0.69192274],\n",
       "        [0.20711017, 0.31426938, 0.31240055, 0.65793315, 0.35401347],\n",
       "        [0.98208067, 0.82591876, 0.72772742, 0.87084133, 0.03338424]]])"
      ]
     },
     "execution_count": 39,
     "metadata": {},
     "output_type": "execute_result"
    }
   ],
   "source": [
    "# your code here\n",
    "f = np.empty(shape=(2,3,5))\n"
   ]
  },
  {
   "cell_type": "markdown",
   "metadata": {},
   "source": [
    "#### 16. Populate the values in *f*. \n",
    "\n",
    "For each value in *d*, if it's larger than *d_min* but smaller than *d_mean*, assign 25 to the corresponding value in *f*. If a value in *d* is larger than *d_mean* but smaller than *d_max*, assign 75 to the corresponding value in *f*. If a value equals to *d_mean*, assign 50 to the corresponding value in *f*. Assign 0 to the corresponding value(s) in *f* for *d_min* in *d*. Assign 100 to the corresponding value(s) in *f* for *d_max* in *d*. In the end, f should have only the following values: 0, 25, 50, 75, and 100.\n",
    "\n",
    "**Note**: you don't have to use Numpy in this question."
   ]
  },
  {
   "cell_type": "code",
   "execution_count": 47,
   "metadata": {},
   "outputs": [
    {
     "data": {
      "text/plain": [
       "array([[[ 25.,  75.,  25.,  25.,  25.],\n",
       "        [ 75.,  75.,  25., 100.,  75.],\n",
       "        [ 75.,  75.,  75.,  25.,  25.]],\n",
       "\n",
       "       [[ 75.,  25.,  75.,  25.,  75.],\n",
       "        [ 25.,  25.,  25.,  75.,  25.],\n",
       "        [ 75.,  75.,  75.,  75.,   0.]]])"
      ]
     },
     "execution_count": 47,
     "metadata": {},
     "output_type": "execute_result"
    }
   ],
   "source": [
    "# your code here\n",
    "\n",
    "# create masks for each group of conditions and use for assigning values\n",
    "\n",
    "# First assignment\n",
    "mask1 = np.logical_and(d > d_min, d < d_mean)\n",
    "f[mask1] = 25\n",
    "\n",
    "# Second assignment\n",
    "mask2 = np.logical_and(d > d_mean, d < d_max)\n",
    "f[mask2] = 75\n",
    "\n",
    "# Third assignment\n",
    "mask3 = (d == d_mean)\n",
    "f[mask3] = 50\n",
    "\n",
    "# Fourth assignment\n",
    "mask4 = (d == d_min)\n",
    "f[mask4] = 0\n",
    "\n",
    "# Fifth assignment\n",
    "mask4 = (d == d_max)\n",
    "f[mask4] = 100\n",
    "\n",
    "f"
   ]
  },
  {
   "cell_type": "markdown",
   "metadata": {},
   "source": [
    "#### 17. Print *d* and *f*. Do you have your expected *f*?\n",
    "For instance, if your *d* is:\n",
    "```python\n",
    "[[[1.85836099, 1.67064465, 1.62576044, 1.40243961, 1.88454931],\n",
    "[1.75354326, 1.69403643, 1.36729252, 1.61415071, 1.12104981],\n",
    "[1.72201435, 1.1862918 , 1.87078449, 1.7726778 , 1.88180042]],\n",
    "[[1.44747908, 1.31673383, 1.02000951, 1.52218947, 1.97066381],\n",
    "[1.79129243, 1.74983003, 1.96028037, 1.85166831, 1.65450881],\n",
    "[1.18068344, 1.9587381 , 1.00656599, 1.93402165, 1.73514584]]]\n",
    "```\n",
    "Your *f* should be:\n",
    "```python\n",
    "[[[ 75.,  75.,  75.,  25.,  75.],\n",
    "[ 75.,  75.,  25.,  25.,  25.],\n",
    "[ 75.,  25.,  75.,  75.,  75.]],\n",
    "[[ 25.,  25.,  25.,  25., 100.],\n",
    "[ 75.,  75.,  75.,  75.,  75.],\n",
    "[ 25.,  75.,   0.,  75.,  75.]]]\n",
    "```"
   ]
  },
  {
   "cell_type": "code",
   "execution_count": 48,
   "metadata": {},
   "outputs": [
    {
     "name": "stdout",
     "output_type": "stream",
     "text": [
      "[[[1.25273293 1.61552322 1.0710703  1.56083813 1.48219053]\n",
      "  [1.80013714 1.87087519 1.56725241 1.98702592 1.84714385]\n",
      "  [1.76096116 1.85732542 1.64628543 1.30544768 1.29728131]]\n",
      "\n",
      " [[1.84609149 1.42837361 1.88546522 1.37559273 1.69192274]\n",
      "  [1.20711017 1.31426938 1.31240055 1.65793315 1.35401347]\n",
      "  [1.98208067 1.82591876 1.72772742 1.87084133 1.03338424]]]\n",
      "[[[ 25.  75.  25.  25.  25.]\n",
      "  [ 75.  75.  25. 100.  75.]\n",
      "  [ 75.  75.  75.  25.  25.]]\n",
      "\n",
      " [[ 75.  25.  75.  25.  75.]\n",
      "  [ 25.  25.  25.  75.  25.]\n",
      "  [ 75.  75.  75.  75.   0.]]]\n"
     ]
    }
   ],
   "source": [
    "# your code here\n",
    "print(d)\n",
    "print(f)\n"
   ]
  },
  {
   "cell_type": "markdown",
   "metadata": {},
   "source": [
    "#### 18. Bonus question: instead of using numbers (i.e. 0, 25, 50, 75, and 100), use string values  (\"A\", \"B\", \"C\", \"D\", and \"E\") to label the array elements. For the example above, the expected result is:\n",
    "\n",
    "```python\n",
    "[[[ 'D',  'D',  'D',  'B',  'D'],\n",
    "[ 'D',  'D',  'B',  'B',  'B'],\n",
    "[ 'D',  'B',  'D',  'D',  'D']],\n",
    "[[ 'B',  'B',  'B',  'B',  'E'],\n",
    "[ 'D',  'D',  'D',  'D',  'D'],\n",
    "[ 'B',  'D',   'A',  'D', 'D']]]\n",
    "```\n",
    "**Note**: you don't have to use Numpy in this question."
   ]
  },
  {
   "cell_type": "code",
   "execution_count": 53,
   "metadata": {},
   "outputs": [
    {
     "name": "stdout",
     "output_type": "stream",
     "text": [
      "[[['B' 'D' 'B' 'B' 'B']\n",
      "  ['D' 'D' 'B' 'E' 'D']\n",
      "  ['D' 'D' 'D' 'B' 'B']]\n",
      "\n",
      " [['D' 'B' 'D' 'B' 'D']\n",
      "  ['B' 'B' 'B' 'D' 'B']\n",
      "  ['D' 'D' 'D' 'D' 'A']]]\n"
     ]
    }
   ],
   "source": [
    "# your code here\n",
    "\n",
    "# create masks for each group of conditions and use for assigning values\n",
    "\n",
    "# create empty array with dtype string\n",
    "f = np.empty(shape=(2,3,5), dtype=np.str)\n",
    "\n",
    "# First assignment\n",
    "mask1 = np.logical_and(d > d_min, d < d_mean)\n",
    "f[mask1] = \"B\"\n",
    "\n",
    "# Second assignment\n",
    "mask2 = np.logical_and(d > d_mean, d < d_max)\n",
    "f[mask2] = \"D\"\n",
    "\n",
    "# Third assignment\n",
    "mask3 = (d == d_mean)\n",
    "f[mask3] = \"C\"\n",
    "\n",
    "# Fourth assignment\n",
    "mask4 = (d == d_min)\n",
    "f[mask4] = \"A\"\n",
    "\n",
    "# Fifth assignment\n",
    "mask4 = (d == d_max)\n",
    "f[mask4] = \"E\"\n",
    "\n",
    "print(f)"
   ]
  }
 ],
 "metadata": {
  "kernelspec": {
   "display_name": "Python 3",
   "language": "python",
   "name": "python3"
  },
  "language_info": {
   "codemirror_mode": {
    "name": "ipython",
    "version": 3
   },
   "file_extension": ".py",
   "mimetype": "text/x-python",
   "name": "python",
   "nbconvert_exporter": "python",
   "pygments_lexer": "ipython3",
   "version": "3.7.6"
  }
 },
 "nbformat": 4,
 "nbformat_minor": 2
}
